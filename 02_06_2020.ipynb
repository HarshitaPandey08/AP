{
  "nbformat": 4,
  "nbformat_minor": 0,
  "metadata": {
    "colab": {
      "name": "02-06-2020.ipynb",
      "provenance": [],
      "authorship_tag": "ABX9TyNmNEFgO8YssIq9uS5HB6XQ",
      "include_colab_link": true
    },
    "kernelspec": {
      "name": "python3",
      "display_name": "Python 3"
    }
  },
  "cells": [
    {
      "cell_type": "markdown",
      "metadata": {
        "id": "view-in-github",
        "colab_type": "text"
      },
      "source": [
        "<a href=\"https://colab.research.google.com/github/HarshitaPandey08/AP/blob/master/02_06_2020.ipynb\" target=\"_parent\"><img src=\"https://colab.research.google.com/assets/colab-badge.svg\" alt=\"Open In Colab\"/></a>"
      ]
    },
    {
      "cell_type": "code",
      "metadata": {
        "id": "wfNI_xvrW1Mj",
        "colab_type": "code",
        "outputId": "0717b66e-1ab3-4a43-b18c-894eeeb35b4f",
        "colab": {
          "base_uri": "https://localhost:8080/",
          "height": 50
        }
      },
      "source": [
        "#creating another list with only even elements of list1\n",
        "list1=list(range(1,11))\n",
        "list2=[]\n",
        "\n",
        "print(list1)\n",
        "for i in range(0,11):\n",
        "  if(i%2==0):\n",
        "    list2.append(i)\n",
        "print(list2)\n"
      ],
      "execution_count": 0,
      "outputs": [
        {
          "output_type": "stream",
          "text": [
            "[1, 2, 3, 4, 5, 6, 7, 8, 9, 10]\n",
            "[0, 2, 4, 6, 8, 10]\n"
          ],
          "name": "stdout"
        }
      ]
    },
    {
      "cell_type": "code",
      "metadata": {
        "id": "HeYT8pwSXC0U",
        "colab_type": "code",
        "outputId": "9fc5222e-2224-4c65-b4b1-c4531dbf04d1",
        "colab": {
          "base_uri": "https://localhost:8080/",
          "height": 34
        }
      },
      "source": [
        "#list comprehension\n",
        "list3=[i for i in list1 if i%2==0]\n",
        "print(list3)"
      ],
      "execution_count": 0,
      "outputs": [
        {
          "output_type": "stream",
          "text": [
            "[2, 4, 6, 8, 10]\n"
          ],
          "name": "stdout"
        }
      ]
    },
    {
      "cell_type": "code",
      "metadata": {
        "id": "CtVLXlE5YMRy",
        "colab_type": "code",
        "outputId": "53320cf5-7fdb-4d67-8956-fa58c150b1a7",
        "colab": {
          "base_uri": "https://localhost:8080/",
          "height": 50
        }
      },
      "source": [
        "s=input(\"enter the string\")\n",
        "\n",
        "list4=[ch for ch in s if ch.isdigit()]\n",
        "print(list4,len(list4))"
      ],
      "execution_count": 0,
      "outputs": [
        {
          "output_type": "stream",
          "text": [
            "enter the stringhello 12345\n",
            "['1', '2', '3', '4', '5'] 5\n"
          ],
          "name": "stdout"
        }
      ]
    },
    {
      "cell_type": "code",
      "metadata": {
        "id": "1HOAQq4tZ-ft",
        "colab_type": "code",
        "outputId": "df021acf-020d-40a7-8eee-aad638238913",
        "colab": {
          "base_uri": "https://localhost:8080/",
          "height": 34
        }
      },
      "source": [
        "list5=list(range(1,11))\n",
        "list6=list(range(11,21))\n",
        "print(list5,list6)"
      ],
      "execution_count": 0,
      "outputs": [
        {
          "output_type": "stream",
          "text": [
            "[1, 2, 3, 4, 5, 6, 7, 8, 9, 10] [11, 12, 13, 14, 15, 16, 17, 18, 19, 20]\n"
          ],
          "name": "stdout"
        }
      ]
    },
    {
      "cell_type": "code",
      "metadata": {
        "id": "gCQ03_mmbuu0",
        "colab_type": "code",
        "outputId": "c389981e-ab72-428a-f835-e2b117e00ae3",
        "colab": {
          "base_uri": "https://localhost:8080/",
          "height": 54
        }
      },
      "source": [
        "result=[x+y for x in list5 for y in list6 ]\n",
        "print(result)"
      ],
      "execution_count": 0,
      "outputs": [
        {
          "output_type": "stream",
          "text": [
            "[12, 13, 14, 15, 16, 17, 18, 19, 20, 21, 13, 14, 15, 16, 17, 18, 19, 20, 21, 22, 14, 15, 16, 17, 18, 19, 20, 21, 22, 23, 15, 16, 17, 18, 19, 20, 21, 22, 23, 24, 16, 17, 18, 19, 20, 21, 22, 23, 24, 25, 17, 18, 19, 20, 21, 22, 23, 24, 25, 26, 18, 19, 20, 21, 22, 23, 24, 25, 26, 27, 19, 20, 21, 22, 23, 24, 25, 26, 27, 28, 20, 21, 22, 23, 24, 25, 26, 27, 28, 29, 21, 22, 23, 24, 25, 26, 27, 28, 29, 30]\n"
          ],
          "name": "stdout"
        }
      ]
    },
    {
      "cell_type": "code",
      "metadata": {
        "id": "plL27hyncGGX",
        "colab_type": "code",
        "outputId": "445cd6c1-af43-4030-f5ec-f10cc78c761c",
        "colab": {
          "base_uri": "https://localhost:8080/",
          "height": 34
        }
      },
      "source": [
        "result=[list5[i]+list6[i] for i in range(len(list5))]\n",
        "print(result)"
      ],
      "execution_count": 0,
      "outputs": [
        {
          "output_type": "stream",
          "text": [
            "[12, 14, 16, 18, 20, 22, 24, 26, 28, 30]\n"
          ],
          "name": "stdout"
        }
      ]
    },
    {
      "cell_type": "code",
      "metadata": {
        "id": "_53mNM9lc4-4",
        "colab_type": "code",
        "outputId": "b282e2da-8943-4a51-c0c6-bbabb785cc7a",
        "colab": {
          "base_uri": "https://localhost:8080/",
          "height": 34
        }
      },
      "source": [
        "#zip()\n",
        "result=[x+y for x,y in zip(list5,list6)]\n",
        "result"
      ],
      "execution_count": 0,
      "outputs": [
        {
          "output_type": "execute_result",
          "data": {
            "text/plain": [
              "[12, 14, 16, 18, 20, 22, 24, 26, 28, 30]"
            ]
          },
          "metadata": {
            "tags": []
          },
          "execution_count": 24
        }
      ]
    },
    {
      "cell_type": "markdown",
      "metadata": {
        "id": "7fCxf0ZFd2ms",
        "colab_type": "text"
      },
      "source": [
        "#####anonymous function or lamda function\n",
        "\n",
        "1.   List item\n",
        "2.   List item\n",
        "\n",
        "\n"
      ]
    },
    {
      "cell_type": "code",
      "metadata": {
        "id": "LP34RNZadm7x",
        "colab_type": "code",
        "outputId": "56cc6086-c369-45ff-986d-82fef693f502",
        "colab": {
          "base_uri": "https://localhost:8080/",
          "height": 34
        }
      },
      "source": [
        "s=lambda x:x**2 ##x is the argument and the function returns square of x\n",
        "s(12)"
      ],
      "execution_count": 0,
      "outputs": [
        {
          "output_type": "execute_result",
          "data": {
            "text/plain": [
              "144"
            ]
          },
          "metadata": {
            "tags": []
          },
          "execution_count": 25
        }
      ]
    },
    {
      "cell_type": "code",
      "metadata": {
        "id": "EzS-SPuTeXaT",
        "colab_type": "code",
        "outputId": "b931e0f1-ab4a-4f02-fd78-ad44f933067c",
        "colab": {
          "base_uri": "https://localhost:8080/",
          "height": 34
        }
      },
      "source": [
        "add=lambda x,y:x+y\n",
        "add(10,20)"
      ],
      "execution_count": 0,
      "outputs": [
        {
          "output_type": "execute_result",
          "data": {
            "text/plain": [
              "30"
            ]
          },
          "metadata": {
            "tags": []
          },
          "execution_count": 26
        }
      ]
    },
    {
      "cell_type": "markdown",
      "metadata": {
        "id": "dXk3g0use7xq",
        "colab_type": "text"
      },
      "source": [
        "#####map()\n",
        "map(function,iterable obeject)"
      ]
    },
    {
      "cell_type": "code",
      "metadata": {
        "id": "DxfqPcQuerB6",
        "colab_type": "code",
        "outputId": "957da63f-17f0-41af-97ff-fb6144ce2b66",
        "colab": {
          "base_uri": "https://localhost:8080/",
          "height": 34
        }
      },
      "source": [
        "list6=list(range(1,11))\n",
        "result=list(map(lambda i:i*2,list6))\n",
        "result\n"
      ],
      "execution_count": 0,
      "outputs": [
        {
          "output_type": "execute_result",
          "data": {
            "text/plain": [
              "[2, 4, 6, 8, 10, 12, 14, 16, 18, 20]"
            ]
          },
          "metadata": {
            "tags": []
          },
          "execution_count": 30
        }
      ]
    },
    {
      "cell_type": "code",
      "metadata": {
        "id": "TY88lnZDff-k",
        "colab_type": "code",
        "outputId": "5c9c0755-02a5-4de6-859e-a3f8a16fe3c7",
        "colab": {
          "base_uri": "https://localhost:8080/",
          "height": 50
        }
      },
      "source": [
        "##unpacking\n",
        "x,y,z=list(map(int,input(\"enter \").split()))  #for accepting multiple values from user\n",
        "\n",
        "print(x,y,z)"
      ],
      "execution_count": 0,
      "outputs": [
        {
          "output_type": "stream",
          "text": [
            "enter 2 4 6\n",
            "2 4 6\n"
          ],
          "name": "stdout"
        }
      ]
    },
    {
      "cell_type": "markdown",
      "metadata": {
        "id": "mP8MalRsiO7s",
        "colab_type": "text"
      },
      "source": [
        "*italicized text*#####Filter()"
      ]
    },
    {
      "cell_type": "code",
      "metadata": {
        "id": "ntHJ7W1EhRk7",
        "colab_type": "code",
        "outputId": "fe32ac6e-6662-4b32-f4f1-e73bf26b4a4e",
        "colab": {
          "base_uri": "https://localhost:8080/",
          "height": 34
        }
      },
      "source": [
        "result=[i for i in list6 if i%5==0]\n",
        "result"
      ],
      "execution_count": 0,
      "outputs": [
        {
          "output_type": "execute_result",
          "data": {
            "text/plain": [
              "[5, 10]"
            ]
          },
          "metadata": {
            "tags": []
          },
          "execution_count": 40
        }
      ]
    },
    {
      "cell_type": "code",
      "metadata": {
        "id": "nOlKVDnajB-j",
        "colab_type": "code",
        "outputId": "75229deb-8c2b-4368-a1dc-a76785cdb0ea",
        "colab": {
          "base_uri": "https://localhost:8080/",
          "height": 34
        }
      },
      "source": [
        "r=list(filter(lambda x :(x%5==0),list6))\n",
        "r \n"
      ],
      "execution_count": 0,
      "outputs": [
        {
          "output_type": "execute_result",
          "data": {
            "text/plain": [
              "[5, 10]"
            ]
          },
          "metadata": {
            "tags": []
          },
          "execution_count": 43
        }
      ]
    },
    {
      "cell_type": "markdown",
      "metadata": {
        "id": "h2mH4bCLkDgs",
        "colab_type": "text"
      },
      "source": [
        "####reduce\n"
      ]
    },
    {
      "cell_type": "code",
      "metadata": {
        "id": "Rt1Mz0vNjgzR",
        "colab_type": "code",
        "colab": {}
      },
      "source": [
        "from functools import reduce "
      ],
      "execution_count": 0,
      "outputs": []
    },
    {
      "cell_type": "code",
      "metadata": {
        "id": "P28Q5PpnmD_4",
        "colab_type": "code",
        "outputId": "c8287451-a602-4844-d405-59f14c92ef39",
        "colab": {
          "base_uri": "https://localhost:8080/",
          "height": 34
        }
      },
      "source": [
        "list1=[1,2,3,4,5]\n",
        "m=1\n",
        "for i in list1:\n",
        "  m*=i\n",
        "print(m)"
      ],
      "execution_count": 0,
      "outputs": [
        {
          "output_type": "stream",
          "text": [
            "120\n"
          ],
          "name": "stdout"
        }
      ]
    },
    {
      "cell_type": "code",
      "metadata": {
        "id": "1nO94eR2mIy4",
        "colab_type": "code",
        "outputId": "f5577e19-f2f4-4431-94b6-6b48762b6a0e",
        "colab": {
          "base_uri": "https://localhost:8080/",
          "height": 34
        }
      },
      "source": [
        "reduce(lambda x,y :x*y ,list1)"
      ],
      "execution_count": 0,
      "outputs": [
        {
          "output_type": "execute_result",
          "data": {
            "text/plain": [
              "120"
            ]
          },
          "metadata": {
            "tags": []
          },
          "execution_count": 48
        }
      ]
    },
    {
      "cell_type": "code",
      "metadata": {
        "id": "6k6E37VxmjUp",
        "colab_type": "code",
        "outputId": "1d48c403-e35f-4785-9b0b-07bcbefcfd1a",
        "colab": {
          "base_uri": "https://localhost:8080/",
          "height": 34
        }
      },
      "source": [
        "sampleSet = {\"Yellow\", \"Orange\", \"Black\"}\n",
        "\n",
        "sampleSet.update([\"Blue\", \"Green\", \"Red\"])\n",
        "\n",
        "print(sampleSet)\n",
        "\n",
        "\n"
      ],
      "execution_count": 0,
      "outputs": [
        {
          "output_type": "stream",
          "text": [
            "{'Blue', 'Red', 'Black', 'Yellow', 'Green', 'Orange'}\n"
          ],
          "name": "stdout"
        }
      ]
    },
    {
      "cell_type": "code",
      "metadata": {
        "id": "SSDCg28io7pY",
        "colab_type": "code",
        "colab": {}
      },
      "source": [
        ""
      ],
      "execution_count": 0,
      "outputs": []
    }
  ]
}