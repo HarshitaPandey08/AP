{
  "nbformat": 4,
  "nbformat_minor": 0,
  "metadata": {
    "colab": {
      "name": "03-06-2020.ipynb",
      "provenance": [],
      "authorship_tag": "ABX9TyM0TkSJqEahC/zlas31dxZT",
      "include_colab_link": true
    },
    "kernelspec": {
      "name": "python3",
      "display_name": "Python 3"
    }
  },
  "cells": [
    {
      "cell_type": "markdown",
      "metadata": {
        "id": "view-in-github",
        "colab_type": "text"
      },
      "source": [
        "<a href=\"https://colab.research.google.com/github/HarshitaPandey08/AP/blob/master/03_06_2020.ipynb\" target=\"_parent\"><img src=\"https://colab.research.google.com/assets/colab-badge.svg\" alt=\"Open In Colab\"/></a>"
      ]
    },
    {
      "cell_type": "markdown",
      "metadata": {
        "id": "LV0n77UWbnK_",
        "colab_type": "text"
      },
      "source": [
        "######modules\n",
        "1. pre-defined \n",
        "2. user-defined\n"
      ]
    },
    {
      "cell_type": "code",
      "metadata": {
        "id": "oKspuPVxbzre",
        "colab_type": "code",
        "outputId": "1620f408-f4e8-4b82-cef9-84ea41ea3ee0",
        "colab": {
          "base_uri": "https://localhost:8080/",
          "height": 34
        }
      },
      "source": [
        "import string\n",
        "string.digits"
      ],
      "execution_count": 0,
      "outputs": [
        {
          "output_type": "execute_result",
          "data": {
            "text/plain": [
              "'0123456789'"
            ]
          },
          "metadata": {
            "tags": []
          },
          "execution_count": 3
        }
      ]
    },
    {
      "cell_type": "code",
      "metadata": {
        "id": "9r0m1xY7b9eA",
        "colab_type": "code",
        "outputId": "24b7316b-ef9e-46dc-a136-d382906f54eb",
        "colab": {
          "base_uri": "https://localhost:8080/",
          "height": 50
        }
      },
      "source": [
        "from string import digits,punctuation\n",
        "print(digits)\n",
        "print(punctuation)"
      ],
      "execution_count": 0,
      "outputs": [
        {
          "output_type": "stream",
          "text": [
            "0123456789\n",
            "!\"#$%&'()*+,-./:;<=>?@[\\]^_`{|}~\n"
          ],
          "name": "stdout"
        }
      ]
    },
    {
      "cell_type": "code",
      "metadata": {
        "id": "wU5wmOBycnmx",
        "colab_type": "code",
        "outputId": "8964ebb7-3ee7-4ecd-9c3a-c8d88b85f123",
        "colab": {
          "base_uri": "https://localhost:8080/",
          "height": 34
        }
      },
      "source": [
        "import string as s \n",
        "s.digits"
      ],
      "execution_count": 0,
      "outputs": [
        {
          "output_type": "execute_result",
          "data": {
            "text/plain": [
              "'0123456789'"
            ]
          },
          "metadata": {
            "tags": []
          },
          "execution_count": 6
        }
      ]
    },
    {
      "cell_type": "markdown",
      "metadata": {
        "id": "3x5TzzORlXGi",
        "colab_type": "text"
      },
      "source": [
        "####built in libraries\n",
        "1. math\n",
        "2. statistics"
      ]
    },
    {
      "cell_type": "code",
      "metadata": {
        "id": "mPZ2SJ9ccuQY",
        "colab_type": "code",
        "colab": {}
      },
      "source": [
        "import math"
      ],
      "execution_count": 0,
      "outputs": []
    },
    {
      "cell_type": "code",
      "metadata": {
        "id": "IK_BGmWcjoQD",
        "colab_type": "code",
        "outputId": "d9623e9a-893f-4f82-e545-64fc5d4ed7fa",
        "colab": {
          "base_uri": "https://localhost:8080/",
          "height": 34
        }
      },
      "source": [
        "math.factorial(5)"
      ],
      "execution_count": 0,
      "outputs": [
        {
          "output_type": "execute_result",
          "data": {
            "text/plain": [
              "120"
            ]
          },
          "metadata": {
            "tags": []
          },
          "execution_count": 9
        }
      ]
    },
    {
      "cell_type": "code",
      "metadata": {
        "id": "sD-rKzYej4sz",
        "colab_type": "code",
        "outputId": "ea75e530-7e69-4b53-9154-305d773e7a70",
        "colab": {
          "base_uri": "https://localhost:8080/",
          "height": 34
        }
      },
      "source": [
        "import math\n",
        "def area(r):\n",
        "  return math.pi*r*r\n",
        "\n",
        "area(5)\n"
      ],
      "execution_count": 0,
      "outputs": [
        {
          "output_type": "execute_result",
          "data": {
            "text/plain": [
              "78.53981633974483"
            ]
          },
          "metadata": {
            "tags": []
          },
          "execution_count": 23
        }
      ]
    },
    {
      "cell_type": "code",
      "metadata": {
        "id": "aqC24EkxkOuo",
        "colab_type": "code",
        "outputId": "5e4f6ec7-abe0-492d-cf9c-217e39a7670e",
        "colab": {
          "base_uri": "https://localhost:8080/",
          "height": 34
        }
      },
      "source": [
        "import statistics as s\n",
        "list1 = list(range(1,21))\n",
        "list1\n"
      ],
      "execution_count": 0,
      "outputs": [
        {
          "output_type": "execute_result",
          "data": {
            "text/plain": [
              "[1, 2, 3, 4, 5, 6, 7, 8, 9, 10, 11, 12, 13, 14, 15, 16, 17, 18, 19, 20]"
            ]
          },
          "metadata": {
            "tags": []
          },
          "execution_count": 24
        }
      ]
    },
    {
      "cell_type": "code",
      "metadata": {
        "id": "1t1Z73Z-lyOr",
        "colab_type": "code",
        "outputId": "ebc49447-e058-4ba8-8260-21b305044dfe",
        "colab": {
          "base_uri": "https://localhost:8080/",
          "height": 50
        }
      },
      "source": [
        "print(s.mean(list1))\n",
        "print(sum(list1)/len(list1))"
      ],
      "execution_count": 0,
      "outputs": [
        {
          "output_type": "stream",
          "text": [
            "10.5\n",
            "10.5\n"
          ],
          "name": "stdout"
        }
      ]
    },
    {
      "cell_type": "code",
      "metadata": {
        "id": "FL_MV7csl10T",
        "colab_type": "code",
        "outputId": "02c622d3-4e5c-498c-887d-12bca944dcd1",
        "colab": {
          "base_uri": "https://localhost:8080/",
          "height": 50
        }
      },
      "source": [
        "print(s.median(list1))\n",
        "list2=[1,2,2,3,3,3,4]\n",
        "print(s.mode(list2))  #3 is repeated more number of times so it returns three \n"
      ],
      "execution_count": 0,
      "outputs": [
        {
          "output_type": "stream",
          "text": [
            "10.5\n",
            "3\n"
          ],
          "name": "stdout"
        }
      ]
    },
    {
      "cell_type": "markdown",
      "metadata": {
        "id": "IqLhB4t0rsi8",
        "colab_type": "text"
      },
      "source": [
        "#####os\n",
        "1. rename()\n",
        "2. remove()\n",
        "3. mkdir()\n",
        "4. getcwd\n",
        "5. listdir\n",
        "6. chdir\n",
        "7. rm dir "
      ]
    },
    {
      "cell_type": "code",
      "metadata": {
        "id": "-WE9c4gwmxFt",
        "colab_type": "code",
        "colab": {}
      },
      "source": [
        "import os\n",
        "os.mkdir(\"sample\")"
      ],
      "execution_count": 0,
      "outputs": []
    },
    {
      "cell_type": "code",
      "metadata": {
        "id": "1Ka94GC8r0IR",
        "colab_type": "code",
        "outputId": "e58f06ae-9606-4306-ffea-85f41d822bf9",
        "colab": {
          "base_uri": "https://localhost:8080/",
          "height": 34
        }
      },
      "source": [
        "os.getcwd()"
      ],
      "execution_count": 0,
      "outputs": [
        {
          "output_type": "execute_result",
          "data": {
            "text/plain": [
              "'/content'"
            ]
          },
          "metadata": {
            "tags": []
          },
          "execution_count": 32
        }
      ]
    },
    {
      "cell_type": "code",
      "metadata": {
        "id": "FZNukgyDr7oD",
        "colab_type": "code",
        "colab": {}
      },
      "source": [
        "os.listdir()"
      ],
      "execution_count": 0,
      "outputs": []
    },
    {
      "cell_type": "code",
      "metadata": {
        "id": "9XRzWzQCt3_W",
        "colab_type": "code",
        "colab": {}
      },
      "source": [
        "###numpy packages \n",
        "#operations related numerics\n",
        "#computational operations\n"
      ],
      "execution_count": 0,
      "outputs": []
    },
    {
      "cell_type": "code",
      "metadata": {
        "id": "JfU6aWFkuKS3",
        "colab_type": "code",
        "outputId": "a43fc5a0-69dc-46c3-d08a-856b25fb1c35",
        "colab": {
          "base_uri": "https://localhost:8080/",
          "height": 50
        }
      },
      "source": [
        "import numpy as np\n",
        "list1=[1,2,3,4,5]\n",
        "arr=np.array(list1)\n",
        "print(arr)\n",
        "type(arr)"
      ],
      "execution_count": 0,
      "outputs": [
        {
          "output_type": "stream",
          "text": [
            "[1 2 3 4 5]\n"
          ],
          "name": "stdout"
        },
        {
          "output_type": "execute_result",
          "data": {
            "text/plain": [
              "numpy.ndarray"
            ]
          },
          "metadata": {
            "tags": []
          },
          "execution_count": 34
        }
      ]
    },
    {
      "cell_type": "code",
      "metadata": {
        "id": "cqox4aLduXuw",
        "colab_type": "code",
        "outputId": "1fdb23a7-46c5-4e7a-d4f9-d9c8947abb64",
        "colab": {
          "base_uri": "https://localhost:8080/",
          "height": 34
        }
      },
      "source": [
        "list2=list(range(1,11))\n",
        "list2\n",
        "ar=np.arange(1,11)\n",
        "print(ar)"
      ],
      "execution_count": 0,
      "outputs": [
        {
          "output_type": "stream",
          "text": [
            "[ 1  2  3  4  5  6  7  8  9 10]\n"
          ],
          "name": "stdout"
        }
      ]
    },
    {
      "cell_type": "code",
      "metadata": {
        "id": "PIKdf-W0uuI8",
        "colab_type": "code",
        "colab": {}
      },
      "source": [
        "import sys \n",
        "size=1000\n",
        "list1=list(range(size))\n",
        "print(sys.getsizeof(list1[0]))"
      ],
      "execution_count": 0,
      "outputs": []
    }
  ]
}