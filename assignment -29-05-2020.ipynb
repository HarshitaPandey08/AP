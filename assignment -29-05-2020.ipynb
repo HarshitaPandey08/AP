{
  "nbformat": 4,
  "nbformat_minor": 0,
  "metadata": {
    "colab": {
      "name": "Untitled0.ipynb",
      "provenance": [],
      "authorship_tag": "ABX9TyMkwQ7x8QQu25TDbpH2Gqk1",
      "include_colab_link": true
    },
    "kernelspec": {
      "name": "python3",
      "display_name": "Python 3"
    }
  },
  "cells": [
    {
      "cell_type": "markdown",
      "metadata": {
        "id": "view-in-github",
        "colab_type": "text"
      },
      "source": [
        "<a href=\"https://colab.research.google.com/github/HarshitaPandey08/AP/blob/master/assignment%20-29-05-2020.ipynb\" target=\"_parent\"><img src=\"https://colab.research.google.com/assets/colab-badge.svg\" alt=\"Open In Colab\"/></a>"
      ]
    },
    {
      "cell_type": "markdown",
      "metadata": {
        "id": "ZYhgLlIPBu3Y",
        "colab_type": "text"
      },
      "source": [
        "Question 1:\n",
        "Create a function to find Factorial of a number using Recursion\n"
      ]
    },
    {
      "cell_type": "code",
      "metadata": {
        "id": "wUDJqujABxqv",
        "colab_type": "code",
        "colab": {}
      },
      "source": [
        "def Fact(n):\n",
        "  if n==0 or n==1:\n",
        "    return 1\n",
        "  else: \n",
        "    return n*Fact(n-1)\n",
        "s=int(input(\"enter the value\"))\n",
        "Fact(s)"
      ],
      "execution_count": 0,
      "outputs": []
    },
    {
      "cell_type": "markdown",
      "metadata": {
        "id": "ki8QKz15B3tK",
        "colab_type": "text"
      },
      "source": [
        "Question 2:\n",
        "Create a function and display ‘n’ Fibonacci numbers using Recursion\n"
      ]
    },
    {
      "cell_type": "code",
      "metadata": {
        "id": "FFt7-MBmB7xk",
        "colab_type": "code",
        "colab": {
          "base_uri": "https://localhost:8080/",
          "height": 50
        },
        "outputId": "e1ceea33-e285-46a2-aaa8-4fcd783e1196"
      },
      "source": [
        "def fib(n):\n",
        "  a=0\n",
        "  b=1\n",
        "  s=0\n",
        "  print(a,b,end=\" \")\n",
        "  for i in range(2,n):\n",
        "    s=a+b\n",
        "    a=b\n",
        "    b=s\n",
        "    print(b,end=\" \")\n",
        "\n",
        "n=int(input(\"enter the number\"))\n",
        "fib(n)"
      ],
      "execution_count": 30,
      "outputs": [
        {
          "output_type": "stream",
          "text": [
            "enter the number10\n",
            "0 1 1 2 3 5 8 13 21 34 "
          ],
          "name": "stdout"
        }
      ]
    },
    {
      "cell_type": "markdown",
      "metadata": {
        "id": "IxbBVrENCAxE",
        "colab_type": "text"
      },
      "source": [
        "Question 3:\n",
        "Print sum of list of elements without using sum() function\n"
      ]
    },
    {
      "cell_type": "code",
      "metadata": {
        "id": "2TDb7o5lCHDL",
        "colab_type": "code",
        "outputId": "26f9a388-fa9e-43d5-d11d-cf5a189fed9c",
        "colab": {
          "base_uri": "https://localhost:8080/",
          "height": 34
        }
      },
      "source": [
        "list1=[1,2,3,4,5]\n",
        "s=0\n",
        "for i in range(0,len(list1)):\n",
        "  s=s+list1[i]\n",
        "print(\"sum=\",s)"
      ],
      "execution_count": 0,
      "outputs": [
        {
          "output_type": "stream",
          "text": [
            "sum= 15\n"
          ],
          "name": "stdout"
        }
      ]
    },
    {
      "cell_type": "markdown",
      "metadata": {
        "id": "To-hrylaCHc0",
        "colab_type": "text"
      },
      "source": [
        "Question 4:\n",
        "print only even numbers from the list\n"
      ]
    },
    {
      "cell_type": "code",
      "metadata": {
        "id": "ybMHYr2wDF1a",
        "colab_type": "code",
        "outputId": "cf7ba949-632c-4a6f-dd94-b8d2d0ec316f",
        "colab": {
          "base_uri": "https://localhost:8080/",
          "height": 67
        }
      },
      "source": [
        "list1=[1,2,3,4,5,6]\n",
        "for i in range(0,len(list1)):\n",
        "  if(list1[i]%2==0):\n",
        "    print(list1[i])\n"
      ],
      "execution_count": 0,
      "outputs": [
        {
          "output_type": "stream",
          "text": [
            "2\n",
            "4\n",
            "6\n"
          ],
          "name": "stdout"
        }
      ]
    },
    {
      "cell_type": "code",
      "metadata": {
        "id": "fvhFwlMDDQ9r",
        "colab_type": "code",
        "outputId": "7f05d818-9b5e-4be1-ceee-cd45961a2232",
        "colab": {
          "base_uri": "https://localhost:8080/",
          "height": 50
        }
      },
      "source": [
        "#Question 5:\n",
        "#Write a Python program to get the smallest number from a list and display index of smallest element of the list\n",
        "list1=[2,4,5,1,-3,6]\n",
        "s=list1[0]\n",
        "t=0\n",
        "for i in range(0,len(list1)):\n",
        "  if(list1[i]<s):\n",
        "    s=list1[i]\n",
        "    t=i\n",
        "print(s)\n",
        "print(t)\n",
        "\n"
      ],
      "execution_count": 0,
      "outputs": [
        {
          "output_type": "stream",
          "text": [
            "-3\n",
            "4\n"
          ],
          "name": "stdout"
        }
      ]
    },
    {
      "cell_type": "markdown",
      "metadata": {
        "id": "6BjMiHeBEZJ0",
        "colab_type": "text"
      },
      "source": [
        "Question 6:\n",
        "Write a Python function that checks whether a passed string is palindrome or not.\n"
      ]
    },
    {
      "cell_type": "code",
      "metadata": {
        "id": "hEJ4-zmTD4zv",
        "colab_type": "code",
        "outputId": "ef2fb9a7-aef2-4a51-9688-41e3b85c2642",
        "colab": {
          "base_uri": "https://localhost:8080/",
          "height": 50
        }
      },
      "source": [
        "def pallindrome(v):\n",
        "  if v==v[::-1]:\n",
        "    print(\"pallindrome\")\n",
        "  else:\n",
        "    print(\"not pallindrome\")\n",
        "v=input(\"enter\")\n",
        "\n",
        "pallindrome(v)\n"
      ],
      "execution_count": 0,
      "outputs": [
        {
          "output_type": "stream",
          "text": [
            "enterradar\n",
            "pallindrome\n"
          ],
          "name": "stdout"
        }
      ]
    },
    {
      "cell_type": "markdown",
      "metadata": {
        "id": "8U5PvNO8Ewzd",
        "colab_type": "text"
      },
      "source": [
        "#####Question 7:\n",
        "#####Write a Python program to count the number of even and odd numbers from a #####series of numbers. \n",
        "#####Sample numbers : numbers = [1, 2, 3, 4, 5, 6, 7, 8, 9]\n",
        "#####Expected Output :\n",
        "#####Number of even numbers : 4\n",
        "#####Number of odd numbers : 5\n"
      ]
    },
    {
      "cell_type": "code",
      "metadata": {
        "id": "GuDV-rInE6ei",
        "colab_type": "code",
        "colab": {
          "base_uri": "https://localhost:8080/",
          "height": 50
        },
        "outputId": "b2a3c8bc-6892-418b-b995-e17155520f3f"
      },
      "source": [
        "list1=[1,2,3,4,5,6,7,8,9]\n",
        "o=0\n",
        "e=0\n",
        "for i in range(0,len(list1)):\n",
        "  if(list1[i]%2==0):\n",
        "    o+=1\n",
        "  else:\n",
        "    e+=1\n",
        "print(\"number of odd numbers : \",o)\n",
        "print(\"number of even numbers : \",e)\n"
      ],
      "execution_count": 26,
      "outputs": [
        {
          "output_type": "stream",
          "text": [
            "number of odd numbers :  4\n",
            "number of even numbers :  5\n"
          ],
          "name": "stdout"
        }
      ]
    },
    {
      "cell_type": "markdown",
      "metadata": {
        "id": "9xu0W6guFzNq",
        "colab_type": "text"
      },
      "source": [
        "#####Question 8:\n",
        "#####Write a Python program that prints all the numbers from 0 to 6 except 3 and 6.\n",
        "#####Note : Use 'continue' statement.\n",
        "#####Expected Output : 0 1 2 4 5\n",
        "\n"
      ]
    },
    {
      "cell_type": "code",
      "metadata": {
        "id": "JqN4S1WaF6cY",
        "colab_type": "code",
        "outputId": "5f2a7220-5beb-4bfe-f443-b91dd7be7f3c",
        "colab": {
          "base_uri": "https://localhost:8080/",
          "height": 34
        }
      },
      "source": [
        "for i in range(6):\n",
        "  if(i==3 or i==6):\n",
        "    continue\n",
        "  else:\n",
        "    print(i,end=\" \")"
      ],
      "execution_count": 24,
      "outputs": [
        {
          "output_type": "stream",
          "text": [
            "0 1 2 4 5 "
          ],
          "name": "stdout"
        }
      ]
    },
    {
      "cell_type": "markdown",
      "metadata": {
        "id": "g1lSakiHF9JC",
        "colab_type": "text"
      },
      "source": [
        "Question 9:\n",
        "Write a python function to check whether the given number is prime or not\n"
      ]
    },
    {
      "cell_type": "code",
      "metadata": {
        "id": "43Xn77xqF-mo",
        "colab_type": "code",
        "outputId": "6ee001b0-99d7-4843-c140-c8c85e7fd895",
        "colab": {
          "base_uri": "https://localhost:8080/",
          "height": 50
        }
      },
      "source": [
        "def prime(n):\n",
        "  f=0\n",
        "  for i in range(2,n//2):\n",
        "    if(n%i==0):\n",
        "      f+=1\n",
        "  if(f==0):\n",
        "    print(n,\"is a prime number\")\n",
        "  else:\n",
        "    print(n,\"is not a prime number\")\n",
        "n=int(input(\"enter the number\"))\n",
        "prime(n)"
      ],
      "execution_count": 0,
      "outputs": [
        {
          "output_type": "stream",
          "text": [
            "enter the number15\n",
            "15 is not a prime number\n"
          ],
          "name": "stdout"
        }
      ]
    },
    {
      "cell_type": "markdown",
      "metadata": {
        "id": "Xpy-eVDhF-7E",
        "colab_type": "text"
      },
      "source": [
        "Question 10:\n",
        "Write a python function to check whether the given number is Adam number or not\n",
        "Example: \n",
        "Input : 12\n",
        "Output : Adam Number\n",
        "\n",
        "Explanation: 12*12 = 144\n",
        "Reverse of 12 is 21 → 21*21 =441\n",
        "Reverse of 144 == 441\n"
      ]
    },
    {
      "cell_type": "code",
      "metadata": {
        "id": "fzMY9SUIGF22",
        "colab_type": "code",
        "outputId": "dee2e7c6-f8a2-45d1-94bb-24ffba9e1642",
        "colab": {
          "base_uri": "https://localhost:8080/",
          "height": 50
        }
      },
      "source": [
        "s=int(input(\"enter the number\"))\n",
        "if int(str(s**2)[::-1]) == int(str(s)[::-1])**2 :\n",
        "\n",
        "  print(\"adams number\")\n",
        "else:\n",
        "  print(\"no\")"
      ],
      "execution_count": 0,
      "outputs": [
        {
          "output_type": "stream",
          "text": [
            "enter the number11\n",
            "adams number\n"
          ],
          "name": "stdout"
        }
      ]
    },
    {
      "cell_type": "code",
      "metadata": {
        "id": "TuBX4pbyGGgE",
        "colab_type": "code",
        "colab": {}
      },
      "source": [
        ""
      ],
      "execution_count": 0,
      "outputs": []
    }
  ]
}