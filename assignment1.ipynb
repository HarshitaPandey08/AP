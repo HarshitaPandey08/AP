{
  "nbformat": 4,
  "nbformat_minor": 0,
  "metadata": {
    "colab": {
      "name": "assignment1.ipynb",
      "provenance": [],
      "collapsed_sections": [],
      "authorship_tag": "ABX9TyN1R5flqHCzcMPHlvujESOM",
      "include_colab_link": true
    },
    "kernelspec": {
      "name": "python3",
      "display_name": "Python 3"
    }
  },
  "cells": [
    {
      "cell_type": "markdown",
      "metadata": {
        "id": "view-in-github",
        "colab_type": "text"
      },
      "source": [
        "<a href=\"https://colab.research.google.com/github/HarshitaPandey08/AP/blob/master/assignment1.ipynb\" target=\"_parent\"><img src=\"https://colab.research.google.com/assets/colab-badge.svg\" alt=\"Open In Colab\"/></a>"
      ]
    },
    {
      "cell_type": "code",
      "metadata": {
        "id": "V0XDqszvXyIF",
        "colab_type": "code",
        "outputId": "404564ab-568c-4471-d816-8ddb46efa833",
        "colab": {
          "base_uri": "https://localhost:8080/",
          "height": 101
        }
      },
      "source": [
        "n=5\n",
        "for i in range(0,n):\n",
        "    for j in range(0,i+1):\n",
        "        print(\"*\",end=\" \")\n",
        "    print(\"\\r\")\n"
      ],
      "execution_count": 0,
      "outputs": [
        {
          "output_type": "stream",
          "text": [
            "* \r\n",
            "* * \r\n",
            "* * * \r\n",
            "* * * * \r\n",
            "* * * * * \r\n"
          ],
          "name": "stdout"
        }
      ]
    },
    {
      "cell_type": "code",
      "metadata": {
        "id": "AaCfidQTX7OC",
        "colab_type": "code",
        "outputId": "0db6af0c-60db-493d-9104-1747796647ba",
        "colab": {
          "base_uri": "https://localhost:8080/",
          "height": 202
        }
      },
      "source": [
        " k = int(input(\"enter the value of k : \"))\n",
        "for i in range(1,11):\n",
        "  print(k,\" * \",i,\" = \",k*i)"
      ],
      "execution_count": 8,
      "outputs": [
        {
          "output_type": "stream",
          "text": [
            "enter the value of k : 2\n",
            "2  *  1  =  2\n",
            "2  *  2  =  4\n",
            "2  *  3  =  6\n",
            "2  *  4  =  8\n",
            "2  *  5  =  10\n",
            "2  *  6  =  12\n",
            "2  *  7  =  14\n",
            "2  *  8  =  16\n",
            "2  *  9  =  18\n",
            "2  *  10  =  20\n"
          ],
          "name": "stdout"
        }
      ]
    },
    {
      "cell_type": "code",
      "metadata": {
        "id": "vf9z9t5VYDJW",
        "colab_type": "code",
        "outputId": "c7016e6b-1030-4805-f00a-1132bbee61cb",
        "colab": {
          "base_uri": "https://localhost:8080/",
          "height": 50
        }
      },
      "source": [
        " n=int(input(\"enter k value \"))\n",
        "a=0\n",
        "b=1\n",
        "print(a,b,end=\" \")\n",
        "for i in range(2,n):\n",
        "    s=a+b\n",
        "    a=b\n",
        "    b=s \n",
        "    print(b,end=\" \")\n",
        "    i+=1"
      ],
      "execution_count": 0,
      "outputs": [
        {
          "output_type": "stream",
          "text": [
            "enter k value 2\n",
            "0 1 "
          ],
          "name": "stdout"
        }
      ]
    },
    {
      "cell_type": "code",
      "metadata": {
        "id": "SFRLNUbyYM7m",
        "colab_type": "code",
        "outputId": "03024a36-57b0-4f83-d86a-13a2b1c472af",
        "colab": {
          "base_uri": "https://localhost:8080/",
          "height": 84
        }
      },
      "source": [
        "import cmath\n",
        "a=int(input(\"enter a value \"))\n",
        "b=int(input(\"enter b value \"))\n",
        "c=int(input(\"enter c value \"))\n",
        "d=(b*b)-(4*a*c)\n",
        "s = (-b-cmath.sqrt(d))/(2*a)\n",
        "t = (-b+cmath.sqrt(d))/(2*a)\n",
        "print(s,t)\n"
      ],
      "execution_count": 10,
      "outputs": [
        {
          "output_type": "stream",
          "text": [
            "enter a value 1\n",
            "enter b value -2\n",
            "enter c value 1\n",
            "(1+0j) (1+0j)\n"
          ],
          "name": "stdout"
        }
      ]
    },
    {
      "cell_type": "code",
      "metadata": {
        "id": "yp1eojTRYdSu",
        "colab_type": "code",
        "colab": {
          "base_uri": "https://localhost:8080/",
          "height": 50
        },
        "outputId": "93f67d66-2750-48c5-91c1-9d3e1f9cf3b2"
      },
      "source": [
        "k=int(input(\"enter the value\"))\n",
        "def binary(n):\n",
        "   if n > 1:\n",
        "       binary(n//2)\n",
        "   print(n % 2,end = '')\n",
        "\n",
        "binary(k)\n",
        "print()\n",
        "    \n"
      ],
      "execution_count": 11,
      "outputs": [
        {
          "output_type": "stream",
          "text": [
            "enter the value8\n",
            "1000\n"
          ],
          "name": "stdout"
        }
      ]
    }
  ]
}